{
 "cells": [
  {
   "cell_type": "code",
   "execution_count": 20,
   "metadata": {},
   "outputs": [],
   "source": [
    "import pandas as pd #importing essential library \n",
    "import matplotlib.pyplot as plt\n",
    "import seaborn as sns\n",
    "from statsmodels.tsa.stattools import adfuller\n",
    "from statsmodels.tsa.ar_model import AutoReg\n",
    "from sklearn.metrics import mean_squared_error, r2_score"
   ]
  },
  {
   "cell_type": "code",
   "execution_count": 21,
   "metadata": {},
   "outputs": [],
   "source": [
    "#renamed the files to make it more accessible and intuitive.\n",
    "#reading csv files into pd dataframes for manipulation and data wrangling\n",
    "cardholder_acc = pd.read_csv('../csvs_datathon/accy_dim.csv')\n",
    "statement_data = pd.read_csv('../csvs_datathon/statement_fact.csv')\n",
    "transaction_data = pd.read_csv('../csvs_datathon/transaction_fact.csv')\n",
    "wrld_transaction_data = pd.read_csv('../csvs_datathon/wrld_stor_tran_fact.csv')\n",
    "customer_id = pd.read_csv('../csvs_datathon/syf_id.csv')\n",
    "acc_lvl_features = pd.read_csv('../csvs_datathon/rams_batch_cur.csv')\n",
    "fraud_claim_case = pd.read_csv('../csvs_datathon/fraud_claim_case.csv')\n",
    "fraud_claim_tran = pd.read_csv('../csvs_datathon/fraud_claim_tran.csv')"
   ]
  },
  {
   "cell_type": "code",
   "execution_count": null,
   "metadata": {},
   "outputs": [],
   "source": [
    "transaction_data"
   ]
  },
  {
   "cell_type": "code",
   "execution_count": null,
   "metadata": {},
   "outputs": [],
   "source": [
    "transaction_data = transaction_data[transaction_data['transaction_type'] == 'SALE']\n",
    "# print(transaction_data)\n",
    "transaction_data.dtypes\n",
    "# print(transaction_data['transaction_date'].dtype)\n",
    "transaction_data['transaction_date'] = pd.to_datetime(transaction_data['transaction_date'])\n",
    "# print(transaction_data['transaction_date'].dtype)\n",
    "transaction_data['year'] = transaction_data['transaction_date'].dt.year\n",
    "transaction_data['month'] = transaction_data['transaction_date'].dt.month\n",
    "transaction_data['day'] = transaction_data['transaction_date'].dt.day\n",
    "transaction_data['dayofweek'] = transaction_data['transaction_date'].dt.dayofweek\n",
    "# transaction_data['quarter'] = transaction_data['transaction_date'].dt.quarter\n",
    "# transaction_data['date'] = transaction_data['transaction_date'].dt.date\n",
    "\n",
    "transaction_data_sorted_chronological = transaction_data.sort_values(by='transaction_date', ascending=True).reset_index(drop=True)\n",
    "# transaction_data_sorted\n",
    "# print(transaction_data['year'].dtype)\n",
    "transaction_data_sorted_chronological.head(50)\n",
    "# transaction_data_sorted.tail(50)\n",
    "# transaction_data_sorted.sample(50)\n",
    "\n",
    "#filter only aug to mar\n",
    "\n",
    "transaction_data_last8months = transaction_data_sorted_chronological[(transaction_data_sorted_chronological['transaction_date'] >= '2024-08-01') & (transaction_data_sorted_chronological['transaction_date'] <= '2025-03-24')]\n",
    "transaction_data_last8months.tail()"
   ]
  },
  {
   "cell_type": "code",
   "execution_count": null,
   "metadata": {},
   "outputs": [],
   "source": [
    "import statsmodels.formula.api as smf\n",
    "# transaction_data_last8months.isna().sum()\n",
    "# transaction_type, transaction_code, payment_type, transaction_return_cnt, transaction_sale_cnt, \n",
    "# product_amt, product_qty, fcr_flag, fcr_rate_of_exchange, frgn_tran_amt, us_equiv_amt, year, month, dayofweek\n",
    "results = smf.ols('transaction_amt ~ transaction_type + year + month + dayofweek + us_equiv_amt + frgn_tran_amt + us_equiv_amt + transaction_sale_cnt', data=transaction_data_last8months).fit()\n",
    "print(results.summary())"
   ]
  },
  {
   "cell_type": "code",
   "execution_count": 25,
   "metadata": {},
   "outputs": [],
   "source": [
    "# transaction_data_last8months.dtypes\n",
    "def create_customer_df(account_id):\n",
    "    df = transaction_data_last8months[transaction_data_last8months['current_account_nbr'] == account_id]\n",
    "    return df"
   ]
  },
  {
   "cell_type": "code",
   "execution_count": null,
   "metadata": {},
   "outputs": [],
   "source": [
    "# TEST FUNCTIONS\n",
    "\n",
    "my_df = create_customer_df('Z87LjFfrML6krD0n')\n",
    "my_df"
   ]
  },
  {
   "cell_type": "code",
   "execution_count": null,
   "metadata": {},
   "outputs": [],
   "source": [
    "# visualizations test\n",
    "\n",
    "plt.scatter(my_df['transaction_date'], my_df['transaction_amt'])\n",
    "plt.show()\n",
    "\n",
    "plt.plot(my_df['transaction_date'], my_df['transaction_amt'])\n",
    "plt.show()"
   ]
  },
  {
   "cell_type": "code",
   "execution_count": null,
   "metadata": {},
   "outputs": [],
   "source": [
    "transaction_data_last8months['transaction_amt'].describe()\n",
    "\n",
    "# check dist\n",
    "plt.figure(figsize=(10, 6))\n",
    "sns.histplot(transaction_data_last8months['transaction_amt'], bins=50, kde=True)\n",
    "plt.xlabel('transaction_amt')\n",
    "plt.ylabel('Frequency')\n",
    "plt.show()\n"
   ]
  },
  {
   "cell_type": "code",
   "execution_count": null,
   "metadata": {},
   "outputs": [],
   "source": [
    "#exclude outliers\n",
    "\n",
    "transaction_data_last8months\n",
    "\n",
    "mean_amt = transaction_data_last8months['transaction_amt'].mean()\n",
    "std_amt = transaction_data_last8months['transaction_amt'].std()\n",
    "\n",
    "print(mean_amt)\n",
    "print(std_amt)\n",
    "\n",
    "lower_bound = mean_amt - 3 * std_amt\n",
    "upper_bound = mean_amt + 3 * std_amt\n",
    "\n",
    "#filter data\n",
    "filtered_transaction_data_no_outliers = transaction_data_last8months[(transaction_data_last8months['transaction_amt'] >= lower_bound) &\n",
    "                                                         (transaction_data_last8months['transaction_amt'] <= upper_bound)]\n"
   ]
  },
  {
   "cell_type": "code",
   "execution_count": null,
   "metadata": {},
   "outputs": [],
   "source": [
    "plt.figure(figsize=(10, 6))\n",
    "sns.histplot(filtered_transaction_data_no_outliers['transaction_amt'], bins=50, kde=True)\n",
    "plt.xlabel('transaction_amt')\n",
    "plt.ylabel('Frequency')\n",
    "plt.show()"
   ]
  },
  {
   "cell_type": "code",
   "execution_count": null,
   "metadata": {},
   "outputs": [],
   "source": [
    "# set index with transaction date\n",
    "filtered_transaction_data_no_outliers.set_index('transaction_date', inplace=True)\n",
    "# resample by month aggregate to get the sum\n",
    "monthly_transaction_data = (filtered_transaction_data_no_outliers.groupby('current_account_nbr').resample('M')['transaction_amt'].sum().reset_index())\n",
    "monthly_transaction_data.set_index('transaction_date', inplace=True)\n",
    "monthly_transaction_data.head(50)"
   ]
  },
  {
   "cell_type": "code",
   "execution_count": null,
   "metadata": {},
   "outputs": [],
   "source": [
    "test_transaction_data = monthly_transaction_data[monthly_transaction_data['current_account_nbr'] == 'Z87LjFfrML6krD0n']\n",
    "test_transaction_data"
   ]
  },
  {
   "cell_type": "code",
   "execution_count": null,
   "metadata": {},
   "outputs": [],
   "source": [
    "adf_result = adfuller(monthly_transaction_data['transaction_amt'])\n",
    "adf_result"
   ]
  },
  {
   "cell_type": "code",
   "execution_count": 34,
   "metadata": {},
   "outputs": [],
   "source": [
    "\n",
    "# evaluate how good our model is first / check the mse and r2 values\n",
    "def evaluate_model(account_id, transaction_data):\n",
    "    account_data = transaction_data[transaction_data['current_account_nbr'] == account_id]\n",
    "    account_data = account_data.sort_index()\n",
    "\n",
    "    # first 6 months\n",
    "    train_data = account_data.iloc[:-2]  \n",
    "    # last 2 months\n",
    "    test_data = account_data.iloc[-2:]  \n",
    "\n",
    "    model = AutoReg(train_data['transaction_amt'], lags=2)\n",
    "\n",
    "    predictions = model.fit().predict(start=test_data.index[0], end=test_data.index[-1])\n",
    "\n",
    "    mse = mean_squared_error(test_data['transaction_amt'], predictions)\n",
    "    r2 = r2_score(test_data['transaction_amt'], predictions)\n",
    "    \n",
    "    print('MSE VALUE:')\n",
    "    print(mse)\n",
    "    print('R² VALUE:')\n",
    "    print(r2)\n",
    "\n",
    "    return mse, r2"
   ]
  },
  {
   "cell_type": "code",
   "execution_count": 35,
   "metadata": {},
   "outputs": [],
   "source": [
    "\n",
    "# use past data to predict q4 spending\n",
    "def predict_q4_spending(account_id, transaction_data):\n",
    "    account_data = transaction_data[transaction_data['current_account_nbr'] == account_id]\n",
    "    # print(account_data)\n",
    "    account_data = account_data.sort_index()\n",
    "    # print(account_data)\n",
    "    # lags - determines how far back model will look at to make prediction\n",
    "    model = AutoReg(account_data['transaction_amt'], lags=2)\n",
    "    \n",
    "    start_date = '2025-10-01'\n",
    "    end_date = '2025-12-31'\n",
    "    predictions = model.fit().predict(start=start_date, end=end_date)\n",
    "    # goes 10-31 then 11-30 then 12-31\n",
    "    # print(predictions)\n",
    "    return predictions.sum()"
   ]
  },
  {
   "cell_type": "code",
   "execution_count": null,
   "metadata": {},
   "outputs": [],
   "source": [
    "id = 'Z87LjFfrML6krD0n'\n",
    "\n",
    "mse_and_r2 = evaluate_model(id, monthly_transaction_data)\n",
    "print(mse_and_r2)\n",
    "\n",
    "sum = predict_q4_spending(id, monthly_transaction_data)\n",
    "print(sum)\n",
    "\n"
   ]
  },
  {
   "cell_type": "code",
   "execution_count": null,
   "metadata": {},
   "outputs": [],
   "source": []
  },
  {
   "cell_type": "code",
   "execution_count": null,
   "metadata": {},
   "outputs": [],
   "source": [
    "wrld_transaction_data"
   ]
  }
 ],
 "metadata": {
  "kernelspec": {
   "display_name": "Python 3",
   "language": "python",
   "name": "python3"
  },
  "language_info": {
   "codemirror_mode": {
    "name": "ipython",
    "version": 3
   },
   "file_extension": ".py",
   "mimetype": "text/x-python",
   "name": "python",
   "nbconvert_exporter": "python",
   "pygments_lexer": "ipython3",
   "version": "3.8.0"
  }
 },
 "nbformat": 4,
 "nbformat_minor": 2
}
