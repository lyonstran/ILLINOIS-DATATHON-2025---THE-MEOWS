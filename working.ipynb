{
 "cells": [
  {
   "cell_type": "markdown",
   "metadata": {},
   "source": [
    "# LETS GET THIS STARTED"
   ]
  },
  {
   "cell_type": "code",
   "execution_count": 2,
   "metadata": {},
   "outputs": [],
   "source": [
    "import pandas as pd "
   ]
  },
  {
   "cell_type": "code",
   "execution_count": 10,
   "metadata": {},
   "outputs": [],
   "source": [
    "#renamed the files to make it more accessible and intuitive.\n",
    "#reading csv files into pd dataframes for manipulation and data wrangling\n",
    "cardholder_acc = pd.read_csv('../csvs_datathon/accy_dim.csv')\n",
    "statement_data = pd.read_csv('../csvs_datathon/statement_fact.csv')\n",
    "transaction_data = pd.read_csv('../csvs_datathon/transaction_fact.csv')\n",
    "wrld_transaction_data = pd.read_csv('../csvs_datathon/wrld_stor_tran_fact.csv')\n",
    "customer_id = pd.read_csv('../csvs_datathon/syf_id.csv')\n",
    "acc_lvl_features = pd.read_csv('../csvs_datathon/rams_batch_cur.csv')\n",
    "fraud_claim_case = pd.read_csv('../csvs_datathon/fraud_claim_case.csv')\n",
    "fraud_claim_tran = pd.read_csv('../csvs_datathon/fraud_claim_tran.csv')"
   ]
  },
  {
   "cell_type": "code",
   "execution_count": null,
   "metadata": {},
   "outputs": [],
   "source": []
  }
 ],
 "metadata": {
  "kernelspec": {
   "display_name": "lyons kernel",
   "language": "python",
   "name": "lyons"
  },
  "language_info": {
   "codemirror_mode": {
    "name": "ipython",
    "version": 3
   },
   "file_extension": ".py",
   "mimetype": "text/x-python",
   "name": "python",
   "nbconvert_exporter": "python",
   "pygments_lexer": "ipython3",
   "version": "3.11.9"
  }
 },
 "nbformat": 4,
 "nbformat_minor": 2
}
